{
  "nbformat": 4,
  "nbformat_minor": 0,
  "metadata": {
    "colab": {
      "provenance": [],
      "include_colab_link": true
    },
    "kernelspec": {
      "name": "python3",
      "display_name": "Python 3"
    },
    "language_info": {
      "name": "python"
    }
  },
  "cells": [
    {
      "cell_type": "markdown",
      "metadata": {
        "id": "view-in-github",
        "colab_type": "text"
      },
      "source": [
        "<a href=\"https://colab.research.google.com/github/Jesusmatheus156/Analise-de-dados-com-python/blob/main/TRABALHO_2B_PEOO_py.ipynb\" target=\"_parent\"><img src=\"https://colab.research.google.com/assets/colab-badge.svg\" alt=\"Open In Colab\"/></a>"
      ]
    },
    {
      "cell_type": "markdown",
      "source": [
        "# **TRABALHO 2B PEOO**\n",
        "\n",
        "Integrantes:\n",
        "\n",
        "1. Anderson Costa Alves\n",
        "2. Ana Michele da Costa Maia\n",
        "1. Gustavo Kauê Fernandes de Oliveira\n",
        "2. Matheus de Jesus Freire da Silva\n",
        "\n",
        "\n",
        "---\n",
        "\n",
        "Base de dados: https://dados.gov.br/dados/conjuntos-dados/sistema-de-gestao-da-transmissao-siget\n",
        "\n",
        "---\n",
        "\n",
        "\n",
        "\n",
        "# Questões:\n",
        "\n",
        "\n",
        "questão 1: fazer um grafico na coluna h para dizer quantos empreendimentos estão: \"planejado\" ,\"em operação\" ou \"concluido\"(piz,bar)\n",
        "\n",
        "questão 2: fazer um gráfico na coluna q que diga quantos são de cada tipo de obra: \"substituição\", \"adequação\", e \"instalação\"(piz,bar)\n",
        "\n",
        "questão 3: fazer um grafico na coluna n para dizer quantas obras estão: \"planejado\" ,\"em operação\" ou \"concluido\"(piz,bar)\n",
        "\n",
        "questão 4: apresentar  na coluna j um gráfico apresentando a quantidade de contratos finais PREVISTOS de cada ano(bar,line)\n",
        "\n",
        "questão 5: criar um grafico na coluna AE que diga a quantidade de contratos finais REALIZADOS em cada ano(line,bar)\n",
        "\n",
        "questão 6: comparar os 2 dados da coluna J e AE e ver se determinado contrato foi: \"feito no prazo\", \"atrasado\" ou \"realizado antes do prazo\"(bar,piz)\n",
        "\n",
        "questão 7: na coluna F criar um grafico que mostre a quantidade de obras solicidadas de determinado empreendimento(bar)\n",
        "\n",
        "questão 8: na coluna X criar um grafico explicando a quantidade de cada tipo de modulo(piz,bar)\n",
        "\n",
        "questão 9: criar um grafico na coluna B que diga quantos contratos foram de diacordo com o id de identificação.(bar)\n",
        "\n",
        "questão 10: criar um gráfico que pegue o valor da receita de derteminada empresa com a coluna F e AD.(bar)\n",
        "\n",
        "\n",
        "\n",
        "\n",
        "\n",
        "\n"
      ],
      "metadata": {
        "id": "pGwWk0O5rL4l"
      }
    },
    {
      "cell_type": "code",
      "source": [],
      "metadata": {
        "id": "w6zM7s-rqVWE"
      },
      "execution_count": null,
      "outputs": []
    },
    {
      "cell_type": "code",
      "source": [
        "from google.colab import drive\n",
        "drive.mount('/content/drive')"
      ],
      "metadata": {
        "id": "4RmZHdHzsoit"
      },
      "execution_count": null,
      "outputs": []
    },
    {
      "cell_type": "code",
      "source": [
        "#questão 1\n",
        "quantidade_situações = {}"
      ],
      "metadata": {
        "id": "OD1lfYMw2azd"
      },
      "execution_count": null,
      "outputs": []
    },
    {
      "cell_type": "code",
      "source": [
        "#para instalar uma bibliotaca no colab\n",
        "!pip install {nome da biblioteca}\n",
        "from {na biblioteca} import {tal biblioteca}"
      ],
      "metadata": {
        "id": "PvjWP8v92rSd"
      },
      "execution_count": null,
      "outputs": []
    },
    {
      "cell_type": "code",
      "source": [
        "#para criar graficos tipo barra\n",
        "\n",
        "pyplot.figure(1)\n",
        "pyplot.title('titulo do grafico')\n",
        "pyplot.bar(valores_chave, valores_das_chaves)\n",
        "\n",
        "#para criar graficos do tipo linhas\n",
        "\n",
        "pyplot.figure(22)\n",
        "pyplot.title('titulo do grafico')\n",
        "pyplot.xlabel(valores_chave(), valores_das_chaves())\n",
        "pyplot.ylabel(valores_chave(), valores_das_chaves())\n",
        "pyplot.plot(valores_chave(), valores_das_chaves(), \"-*r\")\n",
        "\n",
        "#para criar graficos do tipo piz\n",
        "\n",
        "pyplot.figure(1)\n",
        "pyplot.title('titulo do grafico')\n",
        "pyplot.pie(valores_das_chaves(), valores_chave())\n",
        "python.legend('nome da legenda')"
      ],
      "metadata": {
        "id": "yBQsRc-zVVeN"
      },
      "execution_count": null,
      "outputs": []
    }
  ]
}